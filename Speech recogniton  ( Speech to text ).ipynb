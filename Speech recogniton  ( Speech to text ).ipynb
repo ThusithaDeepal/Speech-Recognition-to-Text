{
 "cells": [
  {
   "cell_type": "code",
   "execution_count": 14,
   "metadata": {},
   "outputs": [
    {
     "name": "stdout",
     "output_type": "stream",
     "text": [
      "Speak Anything :\n",
      "You said : how are you\n"
     ]
    }
   ],
   "source": [
    "\n",
    "import speech_recognition as sr     # import the library\n",
    " \n",
    "r = sr.Recognizer()                 # initialize recognizer\n",
    "with sr.Microphone() as source:     # mention source it will be either Microphone or audio files.\n",
    "    print(\"Speak Anything :\")\n",
    "    audio = r.listen(source)        # listen to the source\n",
    "    try:\n",
    "        text = r.recognize_google(audio,language='en')    # use recognizer to convert our audio into text part.\n",
    "        print(\"You said : {}\".format(text))\n",
    "    except:\n",
    "        print(\"Sorry could not recognize your voice\") "
   ]
  },
  {
   "cell_type": "code",
   "execution_count": null,
   "metadata": {},
   "outputs": [],
   "source": []
  },
  {
   "cell_type": "code",
   "execution_count": null,
   "metadata": {},
   "outputs": [],
   "source": []
  }
 ],
 "metadata": {
  "kernelspec": {
   "display_name": "Python 3",
   "language": "python",
   "name": "python3"
  },
  "language_info": {
   "codemirror_mode": {
    "name": "ipython",
    "version": 3
   },
   "file_extension": ".py",
   "mimetype": "text/x-python",
   "name": "python",
   "nbconvert_exporter": "python",
   "pygments_lexer": "ipython3",
   "version": "3.7.2"
  }
 },
 "nbformat": 4,
 "nbformat_minor": 2
}
